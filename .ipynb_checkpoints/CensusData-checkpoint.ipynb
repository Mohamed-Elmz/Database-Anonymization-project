{
 "cells": [
  {
   "cell_type": "markdown",
   "id": "1bc04dfa-95be-44be-829f-6859724380a8",
   "metadata": {},
   "source": [
    "# De-identifying and Analyzing Census Data"
   ]
  },
  {
   "cell_type": "markdown",
   "id": "4dec612c-4b94-4ed6-ba04-746cfcabd879",
   "metadata": {},
   "source": [
    "In this project, I aim to de-identify and analyze census data that presents many potential privacy risks. Census statistics are reported at the block level wich means that Releasing *data* that is useful makes ensuring *privacy* very difficult. However, with the use of principles such as generalization and suppression, I will produce a dataset that balances utility and security."
   ]
  },
  {
   "cell_type": "markdown",
   "id": "ceaa93c6-2c53-4edc-a06d-3219ca0c3cc7",
   "metadata": {},
   "source": [
    "### Data Processing"
   ]
  },
  {
   "cell_type": "code",
   "execution_count": 1,
   "id": "9edea547-3604-4908-a726-886527189296",
   "metadata": {},
   "outputs": [],
   "source": [
    "import pandas as pd\n",
    "import numpy as np\n",
    "import math\n",
    "import matplotlib.pyplot as plt\n",
    "from datetime import datetime"
   ]
  },
  {
   "cell_type": "code",
   "execution_count": 2,
   "id": "93cbde01-0c50-43cf-aba3-fc832e51514e",
   "metadata": {},
   "outputs": [
    {
     "data": {
      "text/html": [
       "<div>\n",
       "<style scoped>\n",
       "    .dataframe tbody tr th:only-of-type {\n",
       "        vertical-align: middle;\n",
       "    }\n",
       "\n",
       "    .dataframe tbody tr th {\n",
       "        vertical-align: top;\n",
       "    }\n",
       "\n",
       "    .dataframe thead th {\n",
       "        text-align: right;\n",
       "    }\n",
       "</style>\n",
       "<table border=\"1\" class=\"dataframe\">\n",
       "  <thead>\n",
       "    <tr style=\"text-align: right;\">\n",
       "      <th></th>\n",
       "      <th>Name</th>\n",
       "      <th>DOB</th>\n",
       "      <th>SSN</th>\n",
       "      <th>Zip</th>\n",
       "      <th>Age</th>\n",
       "      <th>Workclass</th>\n",
       "      <th>fnlwgt</th>\n",
       "      <th>Education</th>\n",
       "      <th>Education-Num</th>\n",
       "      <th>Martial Status</th>\n",
       "      <th>Occupation</th>\n",
       "      <th>Relationship</th>\n",
       "      <th>Race</th>\n",
       "      <th>Sex</th>\n",
       "      <th>Capital Gain</th>\n",
       "      <th>Capital Loss</th>\n",
       "      <th>Hours per week</th>\n",
       "      <th>Country</th>\n",
       "      <th>Target</th>\n",
       "    </tr>\n",
       "  </thead>\n",
       "  <tbody>\n",
       "    <tr>\n",
       "      <th>0</th>\n",
       "      <td>Karrie Trusslove</td>\n",
       "      <td>9/7/67</td>\n",
       "      <td>732-14-6110</td>\n",
       "      <td>64152</td>\n",
       "      <td>39</td>\n",
       "      <td>State-gov</td>\n",
       "      <td>77516</td>\n",
       "      <td>Bachelors</td>\n",
       "      <td>13</td>\n",
       "      <td>Never-married</td>\n",
       "      <td>Adm-clerical</td>\n",
       "      <td>Not-in-family</td>\n",
       "      <td>White</td>\n",
       "      <td>Male</td>\n",
       "      <td>2174</td>\n",
       "      <td>0</td>\n",
       "      <td>40</td>\n",
       "      <td>United-States</td>\n",
       "      <td>&lt;=50K</td>\n",
       "    </tr>\n",
       "    <tr>\n",
       "      <th>1</th>\n",
       "      <td>Brandise Tripony</td>\n",
       "      <td>6/7/88</td>\n",
       "      <td>150-19-2766</td>\n",
       "      <td>61523</td>\n",
       "      <td>50</td>\n",
       "      <td>Self-emp-not-inc</td>\n",
       "      <td>83311</td>\n",
       "      <td>Bachelors</td>\n",
       "      <td>13</td>\n",
       "      <td>Married-civ-spouse</td>\n",
       "      <td>Exec-managerial</td>\n",
       "      <td>Husband</td>\n",
       "      <td>White</td>\n",
       "      <td>Male</td>\n",
       "      <td>0</td>\n",
       "      <td>0</td>\n",
       "      <td>13</td>\n",
       "      <td>United-States</td>\n",
       "      <td>&lt;=50K</td>\n",
       "    </tr>\n",
       "    <tr>\n",
       "      <th>2</th>\n",
       "      <td>Brenn McNeely</td>\n",
       "      <td>8/6/91</td>\n",
       "      <td>725-59-9860</td>\n",
       "      <td>95668</td>\n",
       "      <td>38</td>\n",
       "      <td>Private</td>\n",
       "      <td>215646</td>\n",
       "      <td>HS-grad</td>\n",
       "      <td>9</td>\n",
       "      <td>Divorced</td>\n",
       "      <td>Handlers-cleaners</td>\n",
       "      <td>Not-in-family</td>\n",
       "      <td>White</td>\n",
       "      <td>Male</td>\n",
       "      <td>0</td>\n",
       "      <td>0</td>\n",
       "      <td>40</td>\n",
       "      <td>United-States</td>\n",
       "      <td>&lt;=50K</td>\n",
       "    </tr>\n",
       "    <tr>\n",
       "      <th>3</th>\n",
       "      <td>Dorry Poter</td>\n",
       "      <td>4/6/09</td>\n",
       "      <td>659-57-4974</td>\n",
       "      <td>25503</td>\n",
       "      <td>53</td>\n",
       "      <td>Private</td>\n",
       "      <td>234721</td>\n",
       "      <td>11th</td>\n",
       "      <td>7</td>\n",
       "      <td>Married-civ-spouse</td>\n",
       "      <td>Handlers-cleaners</td>\n",
       "      <td>Husband</td>\n",
       "      <td>Black</td>\n",
       "      <td>Male</td>\n",
       "      <td>0</td>\n",
       "      <td>0</td>\n",
       "      <td>40</td>\n",
       "      <td>United-States</td>\n",
       "      <td>&lt;=50K</td>\n",
       "    </tr>\n",
       "    <tr>\n",
       "      <th>4</th>\n",
       "      <td>Dick Honnan</td>\n",
       "      <td>9/16/51</td>\n",
       "      <td>220-93-3811</td>\n",
       "      <td>75387</td>\n",
       "      <td>28</td>\n",
       "      <td>Private</td>\n",
       "      <td>338409</td>\n",
       "      <td>Bachelors</td>\n",
       "      <td>13</td>\n",
       "      <td>Married-civ-spouse</td>\n",
       "      <td>Prof-specialty</td>\n",
       "      <td>Wife</td>\n",
       "      <td>Black</td>\n",
       "      <td>Female</td>\n",
       "      <td>0</td>\n",
       "      <td>0</td>\n",
       "      <td>40</td>\n",
       "      <td>Cuba</td>\n",
       "      <td>&lt;=50K</td>\n",
       "    </tr>\n",
       "  </tbody>\n",
       "</table>\n",
       "</div>"
      ],
      "text/plain": [
       "               Name      DOB          SSN    Zip  Age         Workclass  \\\n",
       "0  Karrie Trusslove   9/7/67  732-14-6110  64152   39         State-gov   \n",
       "1  Brandise Tripony   6/7/88  150-19-2766  61523   50  Self-emp-not-inc   \n",
       "2     Brenn McNeely   8/6/91  725-59-9860  95668   38           Private   \n",
       "3       Dorry Poter   4/6/09  659-57-4974  25503   53           Private   \n",
       "4       Dick Honnan  9/16/51  220-93-3811  75387   28           Private   \n",
       "\n",
       "   fnlwgt  Education  Education-Num      Martial Status         Occupation  \\\n",
       "0   77516  Bachelors             13       Never-married       Adm-clerical   \n",
       "1   83311  Bachelors             13  Married-civ-spouse    Exec-managerial   \n",
       "2  215646    HS-grad              9            Divorced  Handlers-cleaners   \n",
       "3  234721       11th              7  Married-civ-spouse  Handlers-cleaners   \n",
       "4  338409  Bachelors             13  Married-civ-spouse     Prof-specialty   \n",
       "\n",
       "    Relationship   Race     Sex  Capital Gain  Capital Loss  Hours per week  \\\n",
       "0  Not-in-family  White    Male          2174             0              40   \n",
       "1        Husband  White    Male             0             0              13   \n",
       "2  Not-in-family  White    Male             0             0              40   \n",
       "3        Husband  Black    Male             0             0              40   \n",
       "4           Wife  Black  Female             0             0              40   \n",
       "\n",
       "         Country Target  \n",
       "0  United-States  <=50K  \n",
       "1  United-States  <=50K  \n",
       "2  United-States  <=50K  \n",
       "3  United-States  <=50K  \n",
       "4           Cuba  <=50K  "
      ]
     },
     "execution_count": 2,
     "metadata": {},
     "output_type": "execute_result"
    }
   ],
   "source": [
    "adult = pd.read_csv(\"adult_with_pii.csv\")\n",
    "adult.head()"
   ]
  },
  {
   "cell_type": "code",
   "execution_count": 3,
   "id": "6528d086-a8dd-4ac2-b3ee-8c11b1e1da80",
   "metadata": {},
   "outputs": [
    {
     "name": "stdout",
     "output_type": "stream",
     "text": [
      "<class 'pandas.core.frame.DataFrame'>\n",
      "RangeIndex: 32561 entries, 0 to 32560\n",
      "Data columns (total 19 columns):\n",
      " #   Column          Non-Null Count  Dtype \n",
      "---  ------          --------------  ----- \n",
      " 0   Name            32561 non-null  object\n",
      " 1   DOB             32561 non-null  object\n",
      " 2   SSN             32561 non-null  object\n",
      " 3   Zip             32561 non-null  int64 \n",
      " 4   Age             32561 non-null  int64 \n",
      " 5   Workclass       30725 non-null  object\n",
      " 6   fnlwgt          32561 non-null  int64 \n",
      " 7   Education       32561 non-null  object\n",
      " 8   Education-Num   32561 non-null  int64 \n",
      " 9   Martial Status  32561 non-null  object\n",
      " 10  Occupation      30718 non-null  object\n",
      " 11  Relationship    32561 non-null  object\n",
      " 12  Race            32561 non-null  object\n",
      " 13  Sex             32561 non-null  object\n",
      " 14  Capital Gain    32561 non-null  int64 \n",
      " 15  Capital Loss    32561 non-null  int64 \n",
      " 16  Hours per week  32561 non-null  int64 \n",
      " 17  Country         31978 non-null  object\n",
      " 18  Target          32561 non-null  object\n",
      "dtypes: int64(7), object(12)\n",
      "memory usage: 4.7+ MB\n"
     ]
    }
   ],
   "source": [
    "adult.info()"
   ]
  },
  {
   "cell_type": "markdown",
   "id": "021f2bb2-7fc8-49fb-8a4d-d96c459fd732",
   "metadata": {},
   "source": [
    "\"Name\" and \"SSN\" are identifing atributes wich will be completly removed. \"DOB\", \"Zip\", \"Race\", \"Sex\", and \"Country\" are all quasi-identifiers wich will get generalized or suppresed. Finally, the \"target\" attribute holds confedintial information that will remain unchanged. "
   ]
  },
  {
   "cell_type": "code",
   "execution_count": 4,
   "id": "2c7a3b4b-1574-4dc2-bab2-fe7ea64c1d67",
   "metadata": {},
   "outputs": [],
   "source": [
    "adult_qids = adult.copy()\n",
    "adult_qids = adult_qids.drop(columns=['Name', 'SSN', 'Age', 'Workclass', 'fnlwgt', 'Education',\n",
    "        'Martial Status', 'Occupation', 'Relationship', 'Capital Gain', 'Capital Loss', 'Hours per week'])"
   ]
  },
  {
   "cell_type": "code",
   "execution_count": 5,
   "id": "a3218f2e-c4be-442c-ac3c-083a4a35067f",
   "metadata": {},
   "outputs": [
    {
     "data": {
      "text/html": [
       "<div>\n",
       "<style scoped>\n",
       "    .dataframe tbody tr th:only-of-type {\n",
       "        vertical-align: middle;\n",
       "    }\n",
       "\n",
       "    .dataframe tbody tr th {\n",
       "        vertical-align: top;\n",
       "    }\n",
       "\n",
       "    .dataframe thead th {\n",
       "        text-align: right;\n",
       "    }\n",
       "</style>\n",
       "<table border=\"1\" class=\"dataframe\">\n",
       "  <thead>\n",
       "    <tr style=\"text-align: right;\">\n",
       "      <th></th>\n",
       "      <th>DOB</th>\n",
       "      <th>Zip</th>\n",
       "      <th>Education-Num</th>\n",
       "      <th>Race</th>\n",
       "      <th>Sex</th>\n",
       "      <th>Country</th>\n",
       "      <th>Target</th>\n",
       "    </tr>\n",
       "  </thead>\n",
       "  <tbody>\n",
       "    <tr>\n",
       "      <th>0</th>\n",
       "      <td>9/7/67</td>\n",
       "      <td>64152</td>\n",
       "      <td>13</td>\n",
       "      <td>White</td>\n",
       "      <td>Male</td>\n",
       "      <td>United-States</td>\n",
       "      <td>&lt;=50K</td>\n",
       "    </tr>\n",
       "    <tr>\n",
       "      <th>1</th>\n",
       "      <td>6/7/88</td>\n",
       "      <td>61523</td>\n",
       "      <td>13</td>\n",
       "      <td>White</td>\n",
       "      <td>Male</td>\n",
       "      <td>United-States</td>\n",
       "      <td>&lt;=50K</td>\n",
       "    </tr>\n",
       "    <tr>\n",
       "      <th>2</th>\n",
       "      <td>8/6/91</td>\n",
       "      <td>95668</td>\n",
       "      <td>9</td>\n",
       "      <td>White</td>\n",
       "      <td>Male</td>\n",
       "      <td>United-States</td>\n",
       "      <td>&lt;=50K</td>\n",
       "    </tr>\n",
       "    <tr>\n",
       "      <th>3</th>\n",
       "      <td>4/6/09</td>\n",
       "      <td>25503</td>\n",
       "      <td>7</td>\n",
       "      <td>Black</td>\n",
       "      <td>Male</td>\n",
       "      <td>United-States</td>\n",
       "      <td>&lt;=50K</td>\n",
       "    </tr>\n",
       "    <tr>\n",
       "      <th>4</th>\n",
       "      <td>9/16/51</td>\n",
       "      <td>75387</td>\n",
       "      <td>13</td>\n",
       "      <td>Black</td>\n",
       "      <td>Female</td>\n",
       "      <td>Cuba</td>\n",
       "      <td>&lt;=50K</td>\n",
       "    </tr>\n",
       "  </tbody>\n",
       "</table>\n",
       "</div>"
      ],
      "text/plain": [
       "       DOB    Zip  Education-Num   Race     Sex        Country Target\n",
       "0   9/7/67  64152             13  White    Male  United-States  <=50K\n",
       "1   6/7/88  61523             13  White    Male  United-States  <=50K\n",
       "2   8/6/91  95668              9  White    Male  United-States  <=50K\n",
       "3   4/6/09  25503              7  Black    Male  United-States  <=50K\n",
       "4  9/16/51  75387             13  Black  Female           Cuba  <=50K"
      ]
     },
     "execution_count": 5,
     "metadata": {},
     "output_type": "execute_result"
    }
   ],
   "source": [
    "adult_qids.head()"
   ]
  },
  {
   "cell_type": "markdown",
   "id": "078f4957-cdd5-47c6-8176-e944518e9cd6",
   "metadata": {},
   "source": [
    "### Checking Anonymity"
   ]
  },
  {
   "cell_type": "markdown",
   "id": "c9b2b344-a838-45bb-874e-8478f37a22fa",
   "metadata": {},
   "source": [
    "To implement a function to check whether a dataframe satisfies $k$-Anonymity, we loop over the rows; for each row, we query the dataframe to see how many rows match its values for the quasi-identifiers. If the number of rows in any group is less than $k$, the dataframe does not satisfy $k$-Anonymity for that value of $k$, and we return False. "
   ]
  },
  {
   "cell_type": "code",
   "execution_count": 6,
   "id": "e3d650d2-045c-4bc4-a540-a518ba551c19",
   "metadata": {},
   "outputs": [],
   "source": [
    "def duplicates(df): \n",
    "    dup_bool = df.duplicated(subset=[\"DOB\",\"Zip\", \"Race\", \"Sex\", \"Country\",], keep=False)\n",
    "    dup_true = len(list(dup_bool[dup_bool == True]))\n",
    "    dup_false = len(list(dup_bool[dup_bool == False]))\n",
    "    \n",
    "    return dup_true, dup_false\n"
   ]
  },
  {
   "cell_type": "code",
   "execution_count": 7,
   "id": "3dd9ed2d-58a3-430a-8456-8f51283b0205",
   "metadata": {},
   "outputs": [
    {
     "data": {
      "text/plain": [
       "(0, 32561)"
      ]
     },
     "execution_count": 7,
     "metadata": {},
     "output_type": "execute_result"
    }
   ],
   "source": [
    "duplicates(adult_qids)"
   ]
  },
  {
   "cell_type": "markdown",
   "id": "6dfeeb4a-392e-4bb2-8443-2ff0ab744d28",
   "metadata": {},
   "source": [
    "This dataset is severly unanaonimized, not a single row has a duplicate in terms of qausi indentifiers. We will use this function as a finaly check."
   ]
  },
  {
   "cell_type": "code",
   "execution_count": 8,
   "id": "ad9ca03a-7137-41de-ac90-09dd09e3472e",
   "metadata": {},
   "outputs": [],
   "source": [
    "adult_qids[\"Combined\"] = adult_qids.apply(lambda row: str(row[\"DOB\"]) + str(row[\"Zip\"]) + str(row[\"Race\"]) + str(row[\"Sex\"]) + str(row[\"Country\"]), axis = 1 )"
   ]
  },
  {
   "cell_type": "code",
   "execution_count": 9,
   "id": "d7b80b82-297b-461c-b460-cc46e5248ef0",
   "metadata": {},
   "outputs": [
    {
     "data": {
      "text/plain": [
       "9/7/6764152WhiteMaleUnited-States       1\n",
       "10/8/5795437WhiteFemaleUnited-States    1\n",
       "9/12/0230705WhiteMaleUnited-States      1\n",
       "12/5/5779438WhiteMaleUnited-States      1\n",
       "3/11/0030932WhiteMaleUnited-States      1\n",
       "                                       ..\n",
       "4/3/9726708WhiteMaleUnited-States       1\n",
       "11/17/0269022WhiteMaleUnited-States     1\n",
       "8/7/5554003WhiteMaleUnited-States       1\n",
       "2/1/9613412WhiteFemaleUnited-States     1\n",
       "5/11/1286153WhiteFemaleUnited-States    1\n",
       "Name: Combined, Length: 32561, dtype: int64"
      ]
     },
     "execution_count": 9,
     "metadata": {},
     "output_type": "execute_result"
    }
   ],
   "source": [
    "(adult_qids[\"Combined\"].value_counts())"
   ]
  },
  {
   "cell_type": "code",
   "execution_count": 10,
   "id": "05e66318-283a-482e-a308-fd5b3d3a7f4d",
   "metadata": {},
   "outputs": [],
   "source": [
    "def isKAnonymized(df, k):\n",
    "    for elm in list(df[\"Combined\"].value_counts()):\n",
    "        if elm < k:\n",
    "            return False\n",
    "    return True"
   ]
  },
  {
   "cell_type": "code",
   "execution_count": 11,
   "id": "ddc29985-f467-4c42-966a-47581a3c50a8",
   "metadata": {},
   "outputs": [
    {
     "data": {
      "text/plain": [
       "False"
      ]
     },
     "execution_count": 11,
     "metadata": {},
     "output_type": "execute_result"
    }
   ],
   "source": [
    "isKAnonymized(adult_qids, 3)"
   ]
  },
  {
   "cell_type": "markdown",
   "id": "d71cab67-e8f4-475f-89c3-0a6bf3cf7943",
   "metadata": {},
   "source": [
    "### Anonymizing"
   ]
  },
  {
   "cell_type": "markdown",
   "id": "279d52a2-6d82-4be1-a01e-c6391b4a53fa",
   "metadata": {},
   "source": [
    "The process of modifying a dataset so that it satisfies $k$-Anonymity is accomplished by *generalizing* the data - modifying values to be less specific, and therefore more likely to match the values of other individuals in the dataset. To anonimize quasi-identifier we must order/organize them in a hyerarcical manner. This organization will be very usful because it will indicated the order at wihch we genralize or supress attributes. This hyerrchy will priortize attributes with the most amount of unique values."
   ]
  },
  {
   "cell_type": "code",
   "execution_count": 12,
   "id": "18369aec-f124-4bab-8b21-cc046f993f61",
   "metadata": {},
   "outputs": [
    {
     "name": "stdout",
     "output_type": "stream",
     "text": [
      "DOB 17309\n",
      "Zip 27791\n",
      "Race 5\n",
      "Sex 2\n",
      "Country 42\n"
     ]
    }
   ],
   "source": [
    "for qid in [\"DOB\", \"Zip\", \"Race\", \"Sex\", \"Country\"]:\n",
    "    val = len(pd.unique(adult[qid]))\n",
    "    print(qid + \" \" + str(val))"
   ]
  },
  {
   "cell_type": "markdown",
   "id": "b30b87dd-663b-4703-9d1f-45a45a341f0e",
   "metadata": {},
   "source": [
    "#### Hierarchy: Zip, DOB, Country, Race, Sex"
   ]
  },
  {
   "cell_type": "code",
   "execution_count": 13,
   "id": "c1bc5785-52f5-4271-af35-d8f28b7b807c",
   "metadata": {},
   "outputs": [],
   "source": [
    "def deZip(lst):\n",
    "    finlst = []\n",
    "    for zip in lst: \n",
    "        temp = math.ceil((zip/10000))\n",
    "        finlst.append(temp * 10000)\n",
    "    return finlst\n"
   ]
  },
  {
   "cell_type": "code",
   "execution_count": 14,
   "id": "41229d3e-edaf-4b71-9596-98fb1af54623",
   "metadata": {},
   "outputs": [
    {
     "data": {
      "text/plain": [
       "3138"
      ]
     },
     "execution_count": 14,
     "metadata": {},
     "output_type": "execute_result"
    }
   ],
   "source": [
    "lst = list(adult_qids[\"Zip\"])\n",
    "x = deZip(lst)\n",
    "adult_qids[\"Zip\"] = x\n",
    "min(adult_qids[\"Zip\"].value_counts())"
   ]
  },
  {
   "cell_type": "markdown",
   "id": "d6a51352-11fc-4f43-a2f6-2bf6f0a3f6c3",
   "metadata": {},
   "source": [
    " Zip has been genralized because the min number of rows with the same zip code is 16, much more that 3 "
   ]
  },
  {
   "cell_type": "code",
   "execution_count": 15,
   "id": "8d1ee85f-bca1-4ec1-a165-a343976971a4",
   "metadata": {},
   "outputs": [],
   "source": [
    "def deDate(lst):\n",
    "    fin = []\n",
    "    for dob in lst:\n",
    "        dob = dob.split(\"/\")\n",
    "        year = int(dob[2])\n",
    "        year = year - (year%10)\n",
    "        fin.append(\"01/01/\"+ str(year))\n",
    "    return fin"
   ]
  },
  {
   "cell_type": "code",
   "execution_count": 16,
   "id": "7b624e89-7759-4031-a475-77a1a48f744d",
   "metadata": {},
   "outputs": [
    {
     "data": {
      "text/plain": [
       "1410"
      ]
     },
     "execution_count": 16,
     "metadata": {},
     "output_type": "execute_result"
    }
   ],
   "source": [
    "items = list(adult_qids[\"DOB\"])\n",
    "m = deDate(items)\n",
    "adult_qids[\"DOB\"] = m\n",
    "min(adult_qids[\"DOB\"].value_counts())"
   ]
  },
  {
   "cell_type": "code",
   "execution_count": 17,
   "id": "33bd36a5-d989-4062-bc9a-dc6a107e4d9b",
   "metadata": {},
   "outputs": [
    {
     "data": {
      "text/plain": [
       "0        01/01/60\n",
       "1        01/01/80\n",
       "2        01/01/90\n",
       "3         01/01/0\n",
       "4        01/01/50\n",
       "           ...   \n",
       "32556    01/01/60\n",
       "32557    01/01/50\n",
       "32558    01/01/60\n",
       "32559    01/01/70\n",
       "32560    01/01/10\n",
       "Name: DOB, Length: 32561, dtype: object"
      ]
     },
     "execution_count": 17,
     "metadata": {},
     "output_type": "execute_result"
    }
   ],
   "source": [
    "adult_qids[\"DOB\"]"
   ]
  },
  {
   "cell_type": "markdown",
   "id": "d0bb893b-04b5-4cb0-8546-d3203987a779",
   "metadata": {},
   "source": [
    "Dates have also been genralized "
   ]
  },
  {
   "cell_type": "code",
   "execution_count": 18,
   "id": "ddac2339-c15b-4e47-961e-c9aa69b7b916",
   "metadata": {},
   "outputs": [
    {
     "data": {
      "text/plain": [
       "42"
      ]
     },
     "execution_count": 18,
     "metadata": {},
     "output_type": "execute_result"
    }
   ],
   "source": [
    "len(adult_qids[\"Country\"].unique())"
   ]
  },
  {
   "cell_type": "code",
   "execution_count": 19,
   "id": "245d0a65-4898-471d-acdd-5abb611f26c4",
   "metadata": {},
   "outputs": [],
   "source": [
    "north_AM = ['United-States', 'South', 'Canada']\n",
    "south_AM = ['Cuba', 'Jamaica', 'Mexico', 'Puerto-Rico', 'Honduras', 'Columbia','Haiti', 'Portugal',\n",
    "       'Dominican-Republic', 'El-Salvador', 'Guatemala', 'Peru', 'Trinadad&Tobago', 'Nicaragua']\n",
    "asia = ['India', 'Iran', 'Philippines', 'Thailand', 'Ecuador', 'Laos', 'Taiwan', 'China', 'Japan', 'Yugoslavia',\n",
    "        'Outlying-US(Guam-USVI-etc)', 'Vietnam', 'Hong', 'Cambodia']\n",
    "euro = ['England', 'Germany', 'Italy', 'Poland', 'France', 'Greece', 'Scotland' 'Ireland', 'Hungary',\n",
    "       'Holand-Netherlands']"
   ]
  },
  {
   "cell_type": "code",
   "execution_count": 20,
   "id": "f8466ac9-3f37-480d-80db-1a52c873f480",
   "metadata": {},
   "outputs": [
    {
     "data": {
      "text/html": [
       "<div>\n",
       "<style scoped>\n",
       "    .dataframe tbody tr th:only-of-type {\n",
       "        vertical-align: middle;\n",
       "    }\n",
       "\n",
       "    .dataframe tbody tr th {\n",
       "        vertical-align: top;\n",
       "    }\n",
       "\n",
       "    .dataframe thead th {\n",
       "        text-align: right;\n",
       "    }\n",
       "</style>\n",
       "<table border=\"1\" class=\"dataframe\">\n",
       "  <thead>\n",
       "    <tr style=\"text-align: right;\">\n",
       "      <th></th>\n",
       "      <th>DOB</th>\n",
       "      <th>Zip</th>\n",
       "      <th>Education-Num</th>\n",
       "      <th>Race</th>\n",
       "      <th>Sex</th>\n",
       "      <th>Country</th>\n",
       "      <th>Target</th>\n",
       "      <th>Combined</th>\n",
       "    </tr>\n",
       "  </thead>\n",
       "  <tbody>\n",
       "    <tr>\n",
       "      <th>135</th>\n",
       "      <td>01/01/0</td>\n",
       "      <td>80000</td>\n",
       "      <td>14</td>\n",
       "      <td>White</td>\n",
       "      <td>Male</td>\n",
       "      <td>Iran</td>\n",
       "      <td>&gt;50K</td>\n",
       "      <td>1/14/0875436WhiteMaleIran</td>\n",
       "    </tr>\n",
       "    <tr>\n",
       "      <th>237</th>\n",
       "      <td>01/01/70</td>\n",
       "      <td>40000</td>\n",
       "      <td>13</td>\n",
       "      <td>White</td>\n",
       "      <td>Male</td>\n",
       "      <td>Iran</td>\n",
       "      <td>&gt;50K</td>\n",
       "      <td>4/26/7538655WhiteMaleIran</td>\n",
       "    </tr>\n",
       "    <tr>\n",
       "      <th>348</th>\n",
       "      <td>01/01/90</td>\n",
       "      <td>90000</td>\n",
       "      <td>12</td>\n",
       "      <td>White</td>\n",
       "      <td>Male</td>\n",
       "      <td>Iran</td>\n",
       "      <td>&lt;=50K</td>\n",
       "      <td>11/15/9183640WhiteMaleIran</td>\n",
       "    </tr>\n",
       "    <tr>\n",
       "      <th>1054</th>\n",
       "      <td>01/01/0</td>\n",
       "      <td>40000</td>\n",
       "      <td>10</td>\n",
       "      <td>White</td>\n",
       "      <td>Male</td>\n",
       "      <td>Iran</td>\n",
       "      <td>&lt;=50K</td>\n",
       "      <td>12/21/0830974WhiteMaleIran</td>\n",
       "    </tr>\n",
       "    <tr>\n",
       "      <th>1387</th>\n",
       "      <td>01/01/60</td>\n",
       "      <td>70000</td>\n",
       "      <td>10</td>\n",
       "      <td>White</td>\n",
       "      <td>Male</td>\n",
       "      <td>Iran</td>\n",
       "      <td>&gt;50K</td>\n",
       "      <td>3/1/6967290WhiteMaleIran</td>\n",
       "    </tr>\n",
       "    <tr>\n",
       "      <th>2652</th>\n",
       "      <td>01/01/10</td>\n",
       "      <td>40000</td>\n",
       "      <td>13</td>\n",
       "      <td>White</td>\n",
       "      <td>Male</td>\n",
       "      <td>Iran</td>\n",
       "      <td>&gt;50K</td>\n",
       "      <td>2/11/1039609WhiteMaleIran</td>\n",
       "    </tr>\n",
       "    <tr>\n",
       "      <th>3389</th>\n",
       "      <td>01/01/80</td>\n",
       "      <td>30000</td>\n",
       "      <td>16</td>\n",
       "      <td>White</td>\n",
       "      <td>Male</td>\n",
       "      <td>Iran</td>\n",
       "      <td>&gt;50K</td>\n",
       "      <td>4/27/8923468WhiteMaleIran</td>\n",
       "    </tr>\n",
       "    <tr>\n",
       "      <th>3390</th>\n",
       "      <td>01/01/80</td>\n",
       "      <td>90000</td>\n",
       "      <td>16</td>\n",
       "      <td>White</td>\n",
       "      <td>Male</td>\n",
       "      <td>Iran</td>\n",
       "      <td>&gt;50K</td>\n",
       "      <td>12/26/8081894WhiteMaleIran</td>\n",
       "    </tr>\n",
       "    <tr>\n",
       "      <th>4145</th>\n",
       "      <td>01/01/80</td>\n",
       "      <td>60000</td>\n",
       "      <td>13</td>\n",
       "      <td>White</td>\n",
       "      <td>Female</td>\n",
       "      <td>Iran</td>\n",
       "      <td>&gt;50K</td>\n",
       "      <td>3/15/8653013WhiteFemaleIran</td>\n",
       "    </tr>\n",
       "    <tr>\n",
       "      <th>4369</th>\n",
       "      <td>01/01/60</td>\n",
       "      <td>70000</td>\n",
       "      <td>10</td>\n",
       "      <td>White</td>\n",
       "      <td>Female</td>\n",
       "      <td>Iran</td>\n",
       "      <td>&lt;=50K</td>\n",
       "      <td>10/16/6866764WhiteFemaleIran</td>\n",
       "    </tr>\n",
       "    <tr>\n",
       "      <th>4433</th>\n",
       "      <td>01/01/70</td>\n",
       "      <td>20000</td>\n",
       "      <td>16</td>\n",
       "      <td>White</td>\n",
       "      <td>Male</td>\n",
       "      <td>Iran</td>\n",
       "      <td>&gt;50K</td>\n",
       "      <td>7/7/7112643WhiteMaleIran</td>\n",
       "    </tr>\n",
       "    <tr>\n",
       "      <th>5205</th>\n",
       "      <td>01/01/90</td>\n",
       "      <td>40000</td>\n",
       "      <td>13</td>\n",
       "      <td>White</td>\n",
       "      <td>Male</td>\n",
       "      <td>Iran</td>\n",
       "      <td>&lt;=50K</td>\n",
       "      <td>11/3/9938687WhiteMaleIran</td>\n",
       "    </tr>\n",
       "    <tr>\n",
       "      <th>6182</th>\n",
       "      <td>01/01/70</td>\n",
       "      <td>70000</td>\n",
       "      <td>10</td>\n",
       "      <td>White</td>\n",
       "      <td>Male</td>\n",
       "      <td>Iran</td>\n",
       "      <td>&lt;=50K</td>\n",
       "      <td>8/12/7067366WhiteMaleIran</td>\n",
       "    </tr>\n",
       "    <tr>\n",
       "      <th>6295</th>\n",
       "      <td>01/01/80</td>\n",
       "      <td>60000</td>\n",
       "      <td>14</td>\n",
       "      <td>White</td>\n",
       "      <td>Female</td>\n",
       "      <td>Iran</td>\n",
       "      <td>&gt;50K</td>\n",
       "      <td>2/11/8152000WhiteFemaleIran</td>\n",
       "    </tr>\n",
       "    <tr>\n",
       "      <th>6527</th>\n",
       "      <td>01/01/60</td>\n",
       "      <td>50000</td>\n",
       "      <td>12</td>\n",
       "      <td>White</td>\n",
       "      <td>Male</td>\n",
       "      <td>Iran</td>\n",
       "      <td>&lt;=50K</td>\n",
       "      <td>3/10/6640798WhiteMaleIran</td>\n",
       "    </tr>\n",
       "    <tr>\n",
       "      <th>6604</th>\n",
       "      <td>01/01/90</td>\n",
       "      <td>100000</td>\n",
       "      <td>9</td>\n",
       "      <td>White</td>\n",
       "      <td>Male</td>\n",
       "      <td>Iran</td>\n",
       "      <td>&lt;=50K</td>\n",
       "      <td>8/18/9598611WhiteMaleIran</td>\n",
       "    </tr>\n",
       "    <tr>\n",
       "      <th>6750</th>\n",
       "      <td>01/01/0</td>\n",
       "      <td>10000</td>\n",
       "      <td>13</td>\n",
       "      <td>White</td>\n",
       "      <td>Male</td>\n",
       "      <td>Iran</td>\n",
       "      <td>&lt;=50K</td>\n",
       "      <td>9/28/086247WhiteMaleIran</td>\n",
       "    </tr>\n",
       "    <tr>\n",
       "      <th>6865</th>\n",
       "      <td>01/01/80</td>\n",
       "      <td>100000</td>\n",
       "      <td>10</td>\n",
       "      <td>White</td>\n",
       "      <td>Female</td>\n",
       "      <td>Iran</td>\n",
       "      <td>&lt;=50K</td>\n",
       "      <td>2/14/8098448WhiteFemaleIran</td>\n",
       "    </tr>\n",
       "    <tr>\n",
       "      <th>7402</th>\n",
       "      <td>01/01/90</td>\n",
       "      <td>50000</td>\n",
       "      <td>12</td>\n",
       "      <td>White</td>\n",
       "      <td>Male</td>\n",
       "      <td>Iran</td>\n",
       "      <td>&lt;=50K</td>\n",
       "      <td>4/7/9740657WhiteMaleIran</td>\n",
       "    </tr>\n",
       "    <tr>\n",
       "      <th>7461</th>\n",
       "      <td>01/01/0</td>\n",
       "      <td>80000</td>\n",
       "      <td>13</td>\n",
       "      <td>Asian-Pac-Islander</td>\n",
       "      <td>Male</td>\n",
       "      <td>Iran</td>\n",
       "      <td>&lt;=50K</td>\n",
       "      <td>5/26/0270490Asian-Pac-IslanderMaleIran</td>\n",
       "    </tr>\n",
       "    <tr>\n",
       "      <th>9826</th>\n",
       "      <td>01/01/60</td>\n",
       "      <td>60000</td>\n",
       "      <td>13</td>\n",
       "      <td>White</td>\n",
       "      <td>Male</td>\n",
       "      <td>Iran</td>\n",
       "      <td>&gt;50K</td>\n",
       "      <td>3/19/6959363WhiteMaleIran</td>\n",
       "    </tr>\n",
       "    <tr>\n",
       "      <th>9945</th>\n",
       "      <td>01/01/50</td>\n",
       "      <td>80000</td>\n",
       "      <td>13</td>\n",
       "      <td>White</td>\n",
       "      <td>Male</td>\n",
       "      <td>Iran</td>\n",
       "      <td>&gt;50K</td>\n",
       "      <td>6/8/5376090WhiteMaleIran</td>\n",
       "    </tr>\n",
       "    <tr>\n",
       "      <th>10125</th>\n",
       "      <td>01/01/70</td>\n",
       "      <td>20000</td>\n",
       "      <td>9</td>\n",
       "      <td>White</td>\n",
       "      <td>Female</td>\n",
       "      <td>Iran</td>\n",
       "      <td>&lt;=50K</td>\n",
       "      <td>4/20/7615393WhiteFemaleIran</td>\n",
       "    </tr>\n",
       "    <tr>\n",
       "      <th>13961</th>\n",
       "      <td>01/01/80</td>\n",
       "      <td>90000</td>\n",
       "      <td>9</td>\n",
       "      <td>White</td>\n",
       "      <td>Male</td>\n",
       "      <td>Iran</td>\n",
       "      <td>&gt;50K</td>\n",
       "      <td>9/4/8286816WhiteMaleIran</td>\n",
       "    </tr>\n",
       "    <tr>\n",
       "      <th>14144</th>\n",
       "      <td>01/01/90</td>\n",
       "      <td>40000</td>\n",
       "      <td>12</td>\n",
       "      <td>White</td>\n",
       "      <td>Male</td>\n",
       "      <td>Iran</td>\n",
       "      <td>&lt;=50K</td>\n",
       "      <td>10/9/9432795WhiteMaleIran</td>\n",
       "    </tr>\n",
       "    <tr>\n",
       "      <th>14698</th>\n",
       "      <td>01/01/10</td>\n",
       "      <td>60000</td>\n",
       "      <td>14</td>\n",
       "      <td>White</td>\n",
       "      <td>Male</td>\n",
       "      <td>Iran</td>\n",
       "      <td>&lt;=50K</td>\n",
       "      <td>11/12/1157564WhiteMaleIran</td>\n",
       "    </tr>\n",
       "    <tr>\n",
       "      <th>15877</th>\n",
       "      <td>01/01/50</td>\n",
       "      <td>100000</td>\n",
       "      <td>13</td>\n",
       "      <td>Asian-Pac-Islander</td>\n",
       "      <td>Male</td>\n",
       "      <td>Iran</td>\n",
       "      <td>&lt;=50K</td>\n",
       "      <td>6/24/5598072Asian-Pac-IslanderMaleIran</td>\n",
       "    </tr>\n",
       "    <tr>\n",
       "      <th>16091</th>\n",
       "      <td>01/01/70</td>\n",
       "      <td>90000</td>\n",
       "      <td>10</td>\n",
       "      <td>White</td>\n",
       "      <td>Female</td>\n",
       "      <td>Iran</td>\n",
       "      <td>&lt;=50K</td>\n",
       "      <td>2/3/7386587WhiteFemaleIran</td>\n",
       "    </tr>\n",
       "    <tr>\n",
       "      <th>17854</th>\n",
       "      <td>01/01/90</td>\n",
       "      <td>80000</td>\n",
       "      <td>13</td>\n",
       "      <td>White</td>\n",
       "      <td>Male</td>\n",
       "      <td>Iran</td>\n",
       "      <td>&lt;=50K</td>\n",
       "      <td>3/13/9273662WhiteMaleIran</td>\n",
       "    </tr>\n",
       "    <tr>\n",
       "      <th>19097</th>\n",
       "      <td>01/01/0</td>\n",
       "      <td>40000</td>\n",
       "      <td>16</td>\n",
       "      <td>White</td>\n",
       "      <td>Female</td>\n",
       "      <td>Iran</td>\n",
       "      <td>&lt;=50K</td>\n",
       "      <td>2/29/0039623WhiteFemaleIran</td>\n",
       "    </tr>\n",
       "    <tr>\n",
       "      <th>19322</th>\n",
       "      <td>01/01/0</td>\n",
       "      <td>80000</td>\n",
       "      <td>13</td>\n",
       "      <td>Asian-Pac-Islander</td>\n",
       "      <td>Male</td>\n",
       "      <td>Iran</td>\n",
       "      <td>&lt;=50K</td>\n",
       "      <td>5/1/0779952Asian-Pac-IslanderMaleIran</td>\n",
       "    </tr>\n",
       "    <tr>\n",
       "      <th>20243</th>\n",
       "      <td>01/01/60</td>\n",
       "      <td>30000</td>\n",
       "      <td>14</td>\n",
       "      <td>White</td>\n",
       "      <td>Male</td>\n",
       "      <td>Iran</td>\n",
       "      <td>&gt;50K</td>\n",
       "      <td>11/18/6421631WhiteMaleIran</td>\n",
       "    </tr>\n",
       "    <tr>\n",
       "      <th>20887</th>\n",
       "      <td>01/01/90</td>\n",
       "      <td>20000</td>\n",
       "      <td>10</td>\n",
       "      <td>White</td>\n",
       "      <td>Female</td>\n",
       "      <td>Iran</td>\n",
       "      <td>&lt;=50K</td>\n",
       "      <td>4/2/9013460WhiteFemaleIran</td>\n",
       "    </tr>\n",
       "    <tr>\n",
       "      <th>21441</th>\n",
       "      <td>01/01/60</td>\n",
       "      <td>40000</td>\n",
       "      <td>13</td>\n",
       "      <td>Asian-Pac-Islander</td>\n",
       "      <td>Male</td>\n",
       "      <td>Iran</td>\n",
       "      <td>&lt;=50K</td>\n",
       "      <td>1/11/6937423Asian-Pac-IslanderMaleIran</td>\n",
       "    </tr>\n",
       "    <tr>\n",
       "      <th>23321</th>\n",
       "      <td>01/01/60</td>\n",
       "      <td>100000</td>\n",
       "      <td>10</td>\n",
       "      <td>White</td>\n",
       "      <td>Male</td>\n",
       "      <td>Iran</td>\n",
       "      <td>&lt;=50K</td>\n",
       "      <td>10/25/6492836WhiteMaleIran</td>\n",
       "    </tr>\n",
       "    <tr>\n",
       "      <th>25172</th>\n",
       "      <td>01/01/60</td>\n",
       "      <td>10000</td>\n",
       "      <td>10</td>\n",
       "      <td>White</td>\n",
       "      <td>Male</td>\n",
       "      <td>Iran</td>\n",
       "      <td>&gt;50K</td>\n",
       "      <td>9/6/613035WhiteMaleIran</td>\n",
       "    </tr>\n",
       "    <tr>\n",
       "      <th>25646</th>\n",
       "      <td>01/01/90</td>\n",
       "      <td>80000</td>\n",
       "      <td>14</td>\n",
       "      <td>Other</td>\n",
       "      <td>Male</td>\n",
       "      <td>Iran</td>\n",
       "      <td>&gt;50K</td>\n",
       "      <td>1/31/9478333OtherMaleIran</td>\n",
       "    </tr>\n",
       "    <tr>\n",
       "      <th>25961</th>\n",
       "      <td>01/01/70</td>\n",
       "      <td>20000</td>\n",
       "      <td>13</td>\n",
       "      <td>White</td>\n",
       "      <td>Male</td>\n",
       "      <td>Iran</td>\n",
       "      <td>&lt;=50K</td>\n",
       "      <td>11/5/7418837WhiteMaleIran</td>\n",
       "    </tr>\n",
       "    <tr>\n",
       "      <th>26545</th>\n",
       "      <td>01/01/50</td>\n",
       "      <td>50000</td>\n",
       "      <td>13</td>\n",
       "      <td>Asian-Pac-Islander</td>\n",
       "      <td>Male</td>\n",
       "      <td>Iran</td>\n",
       "      <td>&gt;50K</td>\n",
       "      <td>7/6/5947311Asian-Pac-IslanderMaleIran</td>\n",
       "    </tr>\n",
       "    <tr>\n",
       "      <th>26570</th>\n",
       "      <td>01/01/80</td>\n",
       "      <td>60000</td>\n",
       "      <td>16</td>\n",
       "      <td>White</td>\n",
       "      <td>Male</td>\n",
       "      <td>Iran</td>\n",
       "      <td>&gt;50K</td>\n",
       "      <td>10/29/8158172WhiteMaleIran</td>\n",
       "    </tr>\n",
       "    <tr>\n",
       "      <th>31003</th>\n",
       "      <td>01/01/0</td>\n",
       "      <td>60000</td>\n",
       "      <td>9</td>\n",
       "      <td>Asian-Pac-Islander</td>\n",
       "      <td>Male</td>\n",
       "      <td>Iran</td>\n",
       "      <td>&gt;50K</td>\n",
       "      <td>5/10/0257393Asian-Pac-IslanderMaleIran</td>\n",
       "    </tr>\n",
       "    <tr>\n",
       "      <th>31592</th>\n",
       "      <td>01/01/50</td>\n",
       "      <td>80000</td>\n",
       "      <td>14</td>\n",
       "      <td>White</td>\n",
       "      <td>Male</td>\n",
       "      <td>Iran</td>\n",
       "      <td>&lt;=50K</td>\n",
       "      <td>12/26/5671579WhiteMaleIran</td>\n",
       "    </tr>\n",
       "    <tr>\n",
       "      <th>31985</th>\n",
       "      <td>01/01/80</td>\n",
       "      <td>70000</td>\n",
       "      <td>13</td>\n",
       "      <td>Other</td>\n",
       "      <td>Male</td>\n",
       "      <td>Iran</td>\n",
       "      <td>&lt;=50K</td>\n",
       "      <td>10/24/8367837OtherMaleIran</td>\n",
       "    </tr>\n",
       "  </tbody>\n",
       "</table>\n",
       "</div>"
      ],
      "text/plain": [
       "            DOB     Zip  Education-Num                Race     Sex Country  \\\n",
       "135     01/01/0   80000             14               White    Male    Iran   \n",
       "237    01/01/70   40000             13               White    Male    Iran   \n",
       "348    01/01/90   90000             12               White    Male    Iran   \n",
       "1054    01/01/0   40000             10               White    Male    Iran   \n",
       "1387   01/01/60   70000             10               White    Male    Iran   \n",
       "2652   01/01/10   40000             13               White    Male    Iran   \n",
       "3389   01/01/80   30000             16               White    Male    Iran   \n",
       "3390   01/01/80   90000             16               White    Male    Iran   \n",
       "4145   01/01/80   60000             13               White  Female    Iran   \n",
       "4369   01/01/60   70000             10               White  Female    Iran   \n",
       "4433   01/01/70   20000             16               White    Male    Iran   \n",
       "5205   01/01/90   40000             13               White    Male    Iran   \n",
       "6182   01/01/70   70000             10               White    Male    Iran   \n",
       "6295   01/01/80   60000             14               White  Female    Iran   \n",
       "6527   01/01/60   50000             12               White    Male    Iran   \n",
       "6604   01/01/90  100000              9               White    Male    Iran   \n",
       "6750    01/01/0   10000             13               White    Male    Iran   \n",
       "6865   01/01/80  100000             10               White  Female    Iran   \n",
       "7402   01/01/90   50000             12               White    Male    Iran   \n",
       "7461    01/01/0   80000             13  Asian-Pac-Islander    Male    Iran   \n",
       "9826   01/01/60   60000             13               White    Male    Iran   \n",
       "9945   01/01/50   80000             13               White    Male    Iran   \n",
       "10125  01/01/70   20000              9               White  Female    Iran   \n",
       "13961  01/01/80   90000              9               White    Male    Iran   \n",
       "14144  01/01/90   40000             12               White    Male    Iran   \n",
       "14698  01/01/10   60000             14               White    Male    Iran   \n",
       "15877  01/01/50  100000             13  Asian-Pac-Islander    Male    Iran   \n",
       "16091  01/01/70   90000             10               White  Female    Iran   \n",
       "17854  01/01/90   80000             13               White    Male    Iran   \n",
       "19097   01/01/0   40000             16               White  Female    Iran   \n",
       "19322   01/01/0   80000             13  Asian-Pac-Islander    Male    Iran   \n",
       "20243  01/01/60   30000             14               White    Male    Iran   \n",
       "20887  01/01/90   20000             10               White  Female    Iran   \n",
       "21441  01/01/60   40000             13  Asian-Pac-Islander    Male    Iran   \n",
       "23321  01/01/60  100000             10               White    Male    Iran   \n",
       "25172  01/01/60   10000             10               White    Male    Iran   \n",
       "25646  01/01/90   80000             14               Other    Male    Iran   \n",
       "25961  01/01/70   20000             13               White    Male    Iran   \n",
       "26545  01/01/50   50000             13  Asian-Pac-Islander    Male    Iran   \n",
       "26570  01/01/80   60000             16               White    Male    Iran   \n",
       "31003   01/01/0   60000              9  Asian-Pac-Islander    Male    Iran   \n",
       "31592  01/01/50   80000             14               White    Male    Iran   \n",
       "31985  01/01/80   70000             13               Other    Male    Iran   \n",
       "\n",
       "      Target                                Combined  \n",
       "135     >50K               1/14/0875436WhiteMaleIran  \n",
       "237     >50K               4/26/7538655WhiteMaleIran  \n",
       "348    <=50K              11/15/9183640WhiteMaleIran  \n",
       "1054   <=50K              12/21/0830974WhiteMaleIran  \n",
       "1387    >50K                3/1/6967290WhiteMaleIran  \n",
       "2652    >50K               2/11/1039609WhiteMaleIran  \n",
       "3389    >50K               4/27/8923468WhiteMaleIran  \n",
       "3390    >50K              12/26/8081894WhiteMaleIran  \n",
       "4145    >50K             3/15/8653013WhiteFemaleIran  \n",
       "4369   <=50K            10/16/6866764WhiteFemaleIran  \n",
       "4433    >50K                7/7/7112643WhiteMaleIran  \n",
       "5205   <=50K               11/3/9938687WhiteMaleIran  \n",
       "6182   <=50K               8/12/7067366WhiteMaleIran  \n",
       "6295    >50K             2/11/8152000WhiteFemaleIran  \n",
       "6527   <=50K               3/10/6640798WhiteMaleIran  \n",
       "6604   <=50K               8/18/9598611WhiteMaleIran  \n",
       "6750   <=50K                9/28/086247WhiteMaleIran  \n",
       "6865   <=50K             2/14/8098448WhiteFemaleIran  \n",
       "7402   <=50K                4/7/9740657WhiteMaleIran  \n",
       "7461   <=50K  5/26/0270490Asian-Pac-IslanderMaleIran  \n",
       "9826    >50K               3/19/6959363WhiteMaleIran  \n",
       "9945    >50K                6/8/5376090WhiteMaleIran  \n",
       "10125  <=50K             4/20/7615393WhiteFemaleIran  \n",
       "13961   >50K                9/4/8286816WhiteMaleIran  \n",
       "14144  <=50K               10/9/9432795WhiteMaleIran  \n",
       "14698  <=50K              11/12/1157564WhiteMaleIran  \n",
       "15877  <=50K  6/24/5598072Asian-Pac-IslanderMaleIran  \n",
       "16091  <=50K              2/3/7386587WhiteFemaleIran  \n",
       "17854  <=50K               3/13/9273662WhiteMaleIran  \n",
       "19097  <=50K             2/29/0039623WhiteFemaleIran  \n",
       "19322  <=50K   5/1/0779952Asian-Pac-IslanderMaleIran  \n",
       "20243   >50K              11/18/6421631WhiteMaleIran  \n",
       "20887  <=50K              4/2/9013460WhiteFemaleIran  \n",
       "21441  <=50K  1/11/6937423Asian-Pac-IslanderMaleIran  \n",
       "23321  <=50K              10/25/6492836WhiteMaleIran  \n",
       "25172   >50K                 9/6/613035WhiteMaleIran  \n",
       "25646   >50K               1/31/9478333OtherMaleIran  \n",
       "25961  <=50K               11/5/7418837WhiteMaleIran  \n",
       "26545   >50K   7/6/5947311Asian-Pac-IslanderMaleIran  \n",
       "26570   >50K              10/29/8158172WhiteMaleIran  \n",
       "31003   >50K  5/10/0257393Asian-Pac-IslanderMaleIran  \n",
       "31592  <=50K              12/26/5671579WhiteMaleIran  \n",
       "31985  <=50K              10/24/8367837OtherMaleIran  "
      ]
     },
     "execution_count": 20,
     "metadata": {},
     "output_type": "execute_result"
    }
   ],
   "source": [
    "cbool = adult_qids[\"Country\"] == \"Iran\"    # outliers: 3 Cambodian females only 1 black female\n",
    "adult_qids[cbool]\n"
   ]
  },
  {
   "cell_type": "code",
   "execution_count": 21,
   "id": "23fc6db4-cabe-4c8b-977c-bbd837396c08",
   "metadata": {},
   "outputs": [],
   "source": [
    "def deCountry(lst):\n",
    "    fin_country = []\n",
    "    for country in lst:\n",
    "        if country in north_AM:\n",
    "            fin_country.append(\"North America\")\n",
    "        elif country in south_AM:\n",
    "            fin_country.append(\"South America\")\n",
    "        elif country in asia:\n",
    "            fin_country.append(\"Asia\")\n",
    "        elif country in euro:\n",
    "            fin_country.append(\"Europe\")\n",
    "        else:\n",
    "            fin_country.append(\"N/A\")\n",
    "    return fin_country"
   ]
  },
  {
   "cell_type": "code",
   "execution_count": 22,
   "id": "818034c2-128b-41ff-8232-68a2afdcae38",
   "metadata": {},
   "outputs": [
    {
     "data": {
      "text/plain": [
       "North America    29371\n",
       "South America     1410\n",
       "Asia               729\n",
       "N/A                619\n",
       "Europe             432\n",
       "Name: Country, dtype: int64"
      ]
     },
     "execution_count": 22,
     "metadata": {},
     "output_type": "execute_result"
    }
   ],
   "source": [
    "natonalties = list(adult_qids[\"Country\"])\n",
    "v = deCountry(natonalties)\n",
    "adult_qids[\"Country\"] = v\n",
    "adult_qids[\"Country\"].value_counts()"
   ]
  },
  {
   "cell_type": "markdown",
   "id": "5ab218f8-5eaf-440f-862e-53fe45ff9f39",
   "metadata": {},
   "source": [
    "Country has alos been anonymized"
   ]
  },
  {
   "cell_type": "code",
   "execution_count": 23,
   "id": "1c7d626c-83af-41a0-9221-a8b133f12df4",
   "metadata": {},
   "outputs": [
    {
     "data": {
      "text/plain": [
       "array(['White', 'Black', 'Asian-Pac-Islander', 'Amer-Indian-Eskimo',\n",
       "       'Other'], dtype=object)"
      ]
     },
     "execution_count": 23,
     "metadata": {},
     "output_type": "execute_result"
    }
   ],
   "source": [
    "adult_qids[\"Race\"].unique()"
   ]
  },
  {
   "cell_type": "code",
   "execution_count": 24,
   "id": "8b3213cf-59a4-41a3-b5cb-28e804e55329",
   "metadata": {},
   "outputs": [],
   "source": [
    "westerners = [\"White\", \"Black\"]"
   ]
  },
  {
   "cell_type": "code",
   "execution_count": 25,
   "id": "57617f0b-2ef7-4a41-9359-07a330fd8bd8",
   "metadata": {},
   "outputs": [],
   "source": [
    "def deRace(lst):\n",
    "    race_fin = []\n",
    "    for race in lst: \n",
    "        if race in westerners :\n",
    "            race_fin.append(\"Western-American-Euro\")\n",
    "        elif race == \"Other\":\n",
    "            race_fin.append(\"Amer-Indian-Eskimo\")\n",
    "        else:\n",
    "            race_fin.append(race)\n",
    "    return race_fin"
   ]
  },
  {
   "cell_type": "code",
   "execution_count": 26,
   "id": "1161fadc-0398-49dd-a852-8b6eca693791",
   "metadata": {},
   "outputs": [
    {
     "data": {
      "text/plain": [
       "Western-American-Euro    30940\n",
       "Asian-Pac-Islander        1039\n",
       "Amer-Indian-Eskimo         582\n",
       "Name: Race, dtype: int64"
      ]
     },
     "execution_count": 26,
     "metadata": {},
     "output_type": "execute_result"
    }
   ],
   "source": [
    "races = list(adult_qids[\"Race\"])\n",
    "r = deRace(races)\n",
    "adult_qids[\"Race\"] = r\n",
    "adult_qids[\"Race\"].value_counts()"
   ]
  },
  {
   "cell_type": "markdown",
   "id": "ff4b744b-9597-4909-b41a-68a07258d5a4",
   "metadata": {},
   "source": [
    "### Validation & Results"
   ]
  },
  {
   "cell_type": "code",
   "execution_count": 27,
   "id": "287f9503-be9a-4c8d-b38d-b353f4150c7a",
   "metadata": {},
   "outputs": [
    {
     "data": {
      "text/html": [
       "<div>\n",
       "<style scoped>\n",
       "    .dataframe tbody tr th:only-of-type {\n",
       "        vertical-align: middle;\n",
       "    }\n",
       "\n",
       "    .dataframe tbody tr th {\n",
       "        vertical-align: top;\n",
       "    }\n",
       "\n",
       "    .dataframe thead th {\n",
       "        text-align: right;\n",
       "    }\n",
       "</style>\n",
       "<table border=\"1\" class=\"dataframe\">\n",
       "  <thead>\n",
       "    <tr style=\"text-align: right;\">\n",
       "      <th></th>\n",
       "      <th>DOB</th>\n",
       "      <th>Zip</th>\n",
       "      <th>Education-Num</th>\n",
       "      <th>Race</th>\n",
       "      <th>Sex</th>\n",
       "      <th>Country</th>\n",
       "      <th>Target</th>\n",
       "      <th>Combined</th>\n",
       "    </tr>\n",
       "  </thead>\n",
       "  <tbody>\n",
       "    <tr>\n",
       "      <th>0</th>\n",
       "      <td>01/01/60</td>\n",
       "      <td>70000</td>\n",
       "      <td>13</td>\n",
       "      <td>Western-American-Euro</td>\n",
       "      <td>Male</td>\n",
       "      <td>North America</td>\n",
       "      <td>&lt;=50K</td>\n",
       "      <td>9/7/6764152WhiteMaleUnited-States</td>\n",
       "    </tr>\n",
       "    <tr>\n",
       "      <th>1</th>\n",
       "      <td>01/01/80</td>\n",
       "      <td>70000</td>\n",
       "      <td>13</td>\n",
       "      <td>Western-American-Euro</td>\n",
       "      <td>Male</td>\n",
       "      <td>North America</td>\n",
       "      <td>&lt;=50K</td>\n",
       "      <td>6/7/8861523WhiteMaleUnited-States</td>\n",
       "    </tr>\n",
       "    <tr>\n",
       "      <th>2</th>\n",
       "      <td>01/01/90</td>\n",
       "      <td>100000</td>\n",
       "      <td>9</td>\n",
       "      <td>Western-American-Euro</td>\n",
       "      <td>Male</td>\n",
       "      <td>North America</td>\n",
       "      <td>&lt;=50K</td>\n",
       "      <td>8/6/9195668WhiteMaleUnited-States</td>\n",
       "    </tr>\n",
       "    <tr>\n",
       "      <th>3</th>\n",
       "      <td>01/01/0</td>\n",
       "      <td>30000</td>\n",
       "      <td>7</td>\n",
       "      <td>Western-American-Euro</td>\n",
       "      <td>Male</td>\n",
       "      <td>North America</td>\n",
       "      <td>&lt;=50K</td>\n",
       "      <td>4/6/0925503BlackMaleUnited-States</td>\n",
       "    </tr>\n",
       "    <tr>\n",
       "      <th>4</th>\n",
       "      <td>01/01/50</td>\n",
       "      <td>80000</td>\n",
       "      <td>13</td>\n",
       "      <td>Western-American-Euro</td>\n",
       "      <td>Female</td>\n",
       "      <td>South America</td>\n",
       "      <td>&lt;=50K</td>\n",
       "      <td>9/16/5175387BlackFemaleCuba</td>\n",
       "    </tr>\n",
       "  </tbody>\n",
       "</table>\n",
       "</div>"
      ],
      "text/plain": [
       "        DOB     Zip  Education-Num                   Race     Sex  \\\n",
       "0  01/01/60   70000             13  Western-American-Euro    Male   \n",
       "1  01/01/80   70000             13  Western-American-Euro    Male   \n",
       "2  01/01/90  100000              9  Western-American-Euro    Male   \n",
       "3   01/01/0   30000              7  Western-American-Euro    Male   \n",
       "4  01/01/50   80000             13  Western-American-Euro  Female   \n",
       "\n",
       "         Country Target                           Combined  \n",
       "0  North America  <=50K  9/7/6764152WhiteMaleUnited-States  \n",
       "1  North America  <=50K  6/7/8861523WhiteMaleUnited-States  \n",
       "2  North America  <=50K  8/6/9195668WhiteMaleUnited-States  \n",
       "3  North America  <=50K  4/6/0925503BlackMaleUnited-States  \n",
       "4  South America  <=50K        9/16/5175387BlackFemaleCuba  "
      ]
     },
     "execution_count": 27,
     "metadata": {},
     "output_type": "execute_result"
    }
   ],
   "source": [
    "adult_qids.head()"
   ]
  },
  {
   "cell_type": "code",
   "execution_count": 28,
   "id": "e0e3a2fa-1873-4246-86d0-0eea8714bfa2",
   "metadata": {},
   "outputs": [],
   "source": [
    "# str(row[\"DOB\"]) + str(row[\"Zip\"])\n",
    "adult_qids[\"Combined\"] = adult_qids.apply(lambda row: str(row[\"DOB\"]) + str(row[\"Zip\"]) + str(row[\"Race\"]) + str(row[\"Sex\"]) + str(row[\"Country\"]), axis = 1 )"
   ]
  },
  {
   "cell_type": "code",
   "execution_count": 29,
   "id": "d349bf11-2ef5-451d-9ab4-b725983fb0b1",
   "metadata": {},
   "outputs": [
    {
     "name": "stdout",
     "output_type": "stream",
     "text": [
      "479\n"
     ]
    }
   ],
   "source": [
    "validity = list(adult_qids[\"Combined\"].value_counts())\n",
    "count = 0\n",
    "for elm in validity:\n",
    "    if elm < 3:\n",
    "        count+= 1\n",
    "print(count)\n"
   ]
  },
  {
   "cell_type": "code",
   "execution_count": 30,
   "id": "d6be7402-5792-4362-b6a9-e9f324972697",
   "metadata": {},
   "outputs": [
    {
     "data": {
      "text/plain": [
       "(32561, 8)"
      ]
     },
     "execution_count": 30,
     "metadata": {},
     "output_type": "execute_result"
    }
   ],
   "source": [
    "adult_qids.shape"
   ]
  },
  {
   "cell_type": "code",
   "execution_count": 31,
   "id": "eee6264d-5bd0-4f38-a02a-3252f20a2af3",
   "metadata": {},
   "outputs": [
    {
     "data": {
      "text/plain": [
       "(32274, 287)"
      ]
     },
     "execution_count": 31,
     "metadata": {},
     "output_type": "execute_result"
    }
   ],
   "source": [
    "duplicates(adult_qids)"
   ]
  },
  {
   "cell_type": "code",
   "execution_count": 32,
   "id": "dbf73802-bfbb-4979-94a8-ed5bd9764e3b",
   "metadata": {},
   "outputs": [
    {
     "data": {
      "text/plain": [
       "False"
      ]
     },
     "execution_count": 32,
     "metadata": {},
     "output_type": "execute_result"
    }
   ],
   "source": [
    "isKAnonymized(adult_qids, 3)"
   ]
  },
  {
   "cell_type": "code",
   "execution_count": 33,
   "id": "dc8c1c0f-129d-494f-811b-cc7ad89a9811",
   "metadata": {},
   "outputs": [],
   "source": [
    "def suppressDF(df,k):\n",
    "    tmp_df = (df[\"Combined\"].value_counts()).to_frame()\n",
    "    tmp_df = tmp_df.reset_index()\n",
    "    records_to_be_dropped = []\n",
    "    for index, rec in tmp_df.iterrows():\n",
    "        if rec['Combined'] < 3:\n",
    "            records_to_be_dropped.append(rec['index'])\n",
    "            \n",
    "    new_df = adult_qids[~adult_qids['Combined'].isin(records_to_be_dropped)]\n",
    "    return new_df\n",
    "    "
   ]
  },
  {
   "cell_type": "code",
   "execution_count": 34,
   "id": "2d4d6a16-66f1-4b6e-9d82-3747d2660170",
   "metadata": {},
   "outputs": [],
   "source": [
    "supDf = suppressDF(adult_qids, 3)\n",
    "adult_qids = supDf"
   ]
  },
  {
   "cell_type": "code",
   "execution_count": 35,
   "id": "fdc00555-1212-4d91-9b73-0a1f425243a9",
   "metadata": {},
   "outputs": [
    {
     "data": {
      "text/plain": [
       "(31890, 8)"
      ]
     },
     "execution_count": 35,
     "metadata": {},
     "output_type": "execute_result"
    }
   ],
   "source": [
    "adult_qids.shape"
   ]
  },
  {
   "cell_type": "code",
   "execution_count": 36,
   "id": "fd99cd47-0eea-454d-96ba-008c66392c85",
   "metadata": {},
   "outputs": [
    {
     "data": {
      "text/plain": [
       "(31890, 0)"
      ]
     },
     "execution_count": 36,
     "metadata": {},
     "output_type": "execute_result"
    }
   ],
   "source": [
    "duplicates(adult_qids)"
   ]
  },
  {
   "cell_type": "code",
   "execution_count": 37,
   "id": "e027ae4f-5812-4240-80f2-81fdbf18a5af",
   "metadata": {},
   "outputs": [
    {
     "data": {
      "text/plain": [
       "True"
      ]
     },
     "execution_count": 37,
     "metadata": {},
     "output_type": "execute_result"
    }
   ],
   "source": [
    "isKAnonymized(adult_qids, 3)"
   ]
  },
  {
   "cell_type": "markdown",
   "id": "c7e6697a-b565-4fe7-b40f-9633df233cea",
   "metadata": {},
   "source": [
    "### Research Questions"
   ]
  },
  {
   "cell_type": "markdown",
   "id": "0c04ee00-a583-471a-af3b-0496c0c5943b",
   "metadata": {},
   "source": [
    " #### #1"
   ]
  },
  {
   "cell_type": "code",
   "execution_count": 38,
   "id": "0097b0c7-e2e1-414b-b0c7-fd2c587bd053",
   "metadata": {},
   "outputs": [],
   "source": [
    "counter = 0\n",
    "dcounter = 0\n",
    "\n",
    "for index, row in adult.iterrows():\n",
    "    if row[\"Sex\"] == \"Male\":\n",
    "        counter +=1\n",
    "        \n",
    "for index, row in adult_qids.iterrows():\n",
    "    if row[\"Sex\"] == \"Male\":\n",
    "        dcounter +=1\n"
   ]
  },
  {
   "cell_type": "code",
   "execution_count": 39,
   "id": "18746b84-4a1e-4137-b0ab-5232c6ac7657",
   "metadata": {},
   "outputs": [
    {
     "name": "stdout",
     "output_type": "stream",
     "text": [
      "66.92054912318419\n",
      "67.37848855440576\n"
     ]
    }
   ],
   "source": [
    "print((counter/ 32561) *100)\n",
    "print((dcounter/ 31890) *100)"
   ]
  },
  {
   "cell_type": "markdown",
   "id": "a2a77a48-20d2-4ea2-9f26-aceea9b762b8",
   "metadata": {},
   "source": [
    " #### #2"
   ]
  },
  {
   "cell_type": "code",
   "execution_count": 40,
   "id": "6fe05418-a107-4e17-ab32-85ea0ef7b059",
   "metadata": {},
   "outputs": [
    {
     "name": "stdout",
     "output_type": "stream",
     "text": [
      "White   20699\n",
      "Black   2737\n",
      "Asian-Pac-Islander   763\n",
      "Amer-Indian-Eskimo   275\n",
      "Other   246\n"
     ]
    }
   ],
   "source": [
    "original = ['White', 'Black', 'Asian-Pac-Islander', 'Amer-Indian-Eskimo','Other']\n",
    "\n",
    "for elm in original:\n",
    "    target = len(adult[(adult[\"Race\"] == elm) & (adult[\"Target\"] == \"<=50K\")])\n",
    "    print(elm, \" \",target)\n",
    "    "
   ]
  },
  {
   "cell_type": "code",
   "execution_count": 41,
   "id": "2e01588f-e5ca-44ab-af39-93e35a469cb8",
   "metadata": {},
   "outputs": [
    {
     "name": "stdout",
     "output_type": "stream",
     "text": [
      "Western-American-Euro   23234\n",
      "Asian-Pac-Islander   587\n",
      "Amer-Indian-Eskimo   343\n"
     ]
    }
   ],
   "source": [
    "modified = [\"Western-American-Euro\",'Asian-Pac-Islander', 'Amer-Indian-Eskimo' ]\n",
    "\n",
    "for elm in modified:\n",
    "    target = len(adult_qids[(adult_qids[\"Race\"] == elm) & (adult_qids[\"Target\"] == \"<=50K\")])\n",
    "    print(elm, \" \",target)"
   ]
  },
  {
   "cell_type": "markdown",
   "id": "dcee34ab-c908-4101-8e53-f6b2fe0969f9",
   "metadata": {},
   "source": [
    " #### #3"
   ]
  },
  {
   "cell_type": "code",
   "execution_count": 42,
   "id": "5241e2fb-dcde-41da-bf5a-5106f459c4c7",
   "metadata": {},
   "outputs": [
    {
     "data": {
      "text/plain": [
       "array([13,  9,  7, 14,  5, 10, 12, 11,  4, 16, 15,  3,  6,  2,  1,  8],\n",
       "      dtype=int64)"
      ]
     },
     "execution_count": 42,
     "metadata": {},
     "output_type": "execute_result"
    }
   ],
   "source": [
    "adult['Education-Num'].unique()"
   ]
  },
  {
   "cell_type": "code",
   "execution_count": 43,
   "id": "bee608d6-e777-47a3-9fe4-34d6bfaac048",
   "metadata": {},
   "outputs": [],
   "source": [
    "educated = [13, 14, 15, 16]\n",
    "target = 0\n",
    "under = 0\n",
    "\n",
    "for index, row in adult.iterrows():\n",
    "    if row['Education-Num'] in educated:\n",
    "        target = len(adult[adult[\"Target\"] == \"<=50K\"])\n",
    "        under = len(adult[adult[\"Target\"] == \">=50K\"])\n",
    "        "
   ]
  },
  {
   "cell_type": "code",
   "execution_count": 44,
   "id": "eae3d660-9708-48dc-ac0f-6eafd290ee0d",
   "metadata": {},
   "outputs": [
    {
     "name": "stdout",
     "output_type": "stream",
     "text": [
      "24720 0\n"
     ]
    }
   ],
   "source": [
    "print(target, under)"
   ]
  },
  {
   "cell_type": "code",
   "execution_count": 45,
   "id": "16c26bce-0245-46a0-8025-370e79661878",
   "metadata": {},
   "outputs": [],
   "source": [
    "educated = [13, 14, 15, 16]\n",
    "target = 0\n",
    "under = 0\n",
    "\n",
    "for index, row in adult_qids.iterrows():\n",
    "    if row['Education-Num'] in educated:\n",
    "        target = len(adult_qids[adult_qids[\"Target\"] == \"<=50K\"])\n",
    "        under = len(adult_qids[adult_qids[\"Target\"] == \">=50K\"])"
   ]
  },
  {
   "cell_type": "code",
   "execution_count": 46,
   "id": "5c3ae904-2160-4c2b-b106-b1aead3e9a7f",
   "metadata": {},
   "outputs": [
    {
     "name": "stdout",
     "output_type": "stream",
     "text": [
      "24164 0\n"
     ]
    }
   ],
   "source": [
    "print(target, under)"
   ]
  },
  {
   "cell_type": "markdown",
   "id": "b24673ed-31bf-4f05-ba5d-d93abc70f19b",
   "metadata": {},
   "source": [
    " #### #4"
   ]
  },
  {
   "cell_type": "code",
   "execution_count": 47,
   "id": "fe88a008-2bd6-460d-af90-3fa8cf4c08a0",
   "metadata": {},
   "outputs": [],
   "source": [
    "counter = 0\n",
    "dcounter = 0\n",
    "\n",
    "for index, row in adult.iterrows():\n",
    "    if row[\"Sex\"] == \"Female\" and row[\"Country\"] == \"Cambodia\":\n",
    "        counter +=1\n",
    "        \n",
    "for index, row in adult_qids.iterrows():\n",
    "     if row[\"Sex\"] == \"Female\" and row[\"Country\"] == \"Asia\":\n",
    "        dcounter +=1"
   ]
  },
  {
   "cell_type": "code",
   "execution_count": 49,
   "id": "42c3b05a-7e20-48d2-bdc8-e4624a66f8fc",
   "metadata": {},
   "outputs": [
    {
     "name": "stdout",
     "output_type": "stream",
     "text": [
      "0.009213476244587083\n",
      "0.46723110693007214\n"
     ]
    }
   ],
   "source": [
    "print((counter/ 32561) *100)\n",
    "print((dcounter/ 31890) *100)"
   ]
  },
  {
   "cell_type": "markdown",
   "id": "9ab1798f-8427-4478-b69a-0b1b273d4a26",
   "metadata": {},
   "source": [
    "#### #5"
   ]
  },
  {
   "cell_type": "code",
   "execution_count": 50,
   "id": "82501107-bbd7-4176-b0e9-155dda9a02fe",
   "metadata": {},
   "outputs": [],
   "source": [
    "counter = 0\n",
    "dcounter = 0\n",
    "\n",
    "for index, row in adult.iterrows():\n",
    "    if row[\"Sex\"] == \"Female\" and row[\"Country\"] == \"Iran\":\n",
    "        counter +=1\n",
    "        \n",
    "for index, row in adult_qids.iterrows():\n",
    "     if row[\"Sex\"] == \"Female\" and row[\"Country\"] == \"Asia\":\n",
    "        dcounter +=1"
   ]
  },
  {
   "cell_type": "code",
   "execution_count": 51,
   "id": "15e361b6-2eb9-4dfc-afc2-377c9e7b54ee",
   "metadata": {},
   "outputs": [
    {
     "name": "stdout",
     "output_type": "stream",
     "text": [
      "0.02456926998556555\n",
      "0.46723110693007214\n"
     ]
    }
   ],
   "source": [
    "print((counter/ 32561) *100)\n",
    "print((dcounter/ 31890) *100)"
   ]
  },
  {
   "cell_type": "code",
   "execution_count": null,
   "id": "4c6dc96f-9d78-4477-adee-59544f78923d",
   "metadata": {},
   "outputs": [],
   "source": []
  }
 ],
 "metadata": {
  "kernelspec": {
   "display_name": "Python 3 (ipykernel)",
   "language": "python",
   "name": "python3"
  },
  "language_info": {
   "codemirror_mode": {
    "name": "ipython",
    "version": 3
   },
   "file_extension": ".py",
   "mimetype": "text/x-python",
   "name": "python",
   "nbconvert_exporter": "python",
   "pygments_lexer": "ipython3",
   "version": "3.9.7"
  }
 },
 "nbformat": 4,
 "nbformat_minor": 5
}
